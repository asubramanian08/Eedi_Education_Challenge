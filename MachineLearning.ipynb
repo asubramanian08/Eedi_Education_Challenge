{
 "cells": [
  {
   "cell_type": "markdown",
   "metadata": {},
   "source": [
    "### Setup + Read Data"
   ]
  },
  {
   "cell_type": "code",
   "execution_count": null,
   "metadata": {},
   "outputs": [],
   "source": [
    "# Imports and Constants\n",
    "import math\n",
    "import pandas as pd\n",
    "import numpy as np\n",
    "import matplotlib.pyplot as plt\n",
    "import tensorflow as tf\n",
    "from tensorflow import keras\n",
    "BASE, EXT = 'data/metadata/', '_task_1_2.csv'"
   ]
  },
  {
   "cell_type": "code",
   "execution_count": null,
   "metadata": {},
   "outputs": [],
   "source": [
    "# Get data (only do this once!)\n",
    "!wget https://dqanonymousdata.blob.core.windows.net/neurips-public/data.zip\n",
    "!unzip data.zip"
   ]
  },
  {
   "cell_type": "code",
   "execution_count": null,
   "metadata": {},
   "outputs": [],
   "source": [
    "# Training Data\n",
    "TRAIN = pd.read_csv('data/train_data/train' + EXT)\n",
    "assert len(TRAIN['AnswerId'].unique())==TRAIN.shape[0]\n",
    "# assert len(TRAIN['StudentId'].unique())==TRAIN.shape[0] # fails\n",
    "assert all(TRAIN['IsCorrect'].isin([0,1]))\n",
    "assert all(TRAIN['IsCorrect'] == (TRAIN['AnswerValue']==TRAIN['CorrectAnswer']))\n",
    "TRAIN.head() # print(TRAIN.head())"
   ]
  },
  {
   "cell_type": "code",
   "execution_count": null,
   "metadata": {},
   "outputs": [],
   "source": [
    "# Subject Data\n",
    "SUBJECT = pd.read_csv(BASE + 'subject_metadata.csv')\n",
    "assert len(SUBJECT['SubjectId'].unique())==SUBJECT.shape[0]\n",
    "assert len(SUBJECT['Name'].unique())==SUBJECT.shape[0]\n",
    "assert SUBJECT['ParentId'].apply(lambda f: math.isnan(f) or f.is_integer).all()\n",
    "SUBJECT.head() # print(SUBJECT.head())"
   ]
  },
  {
   "cell_type": "code",
   "execution_count": null,
   "metadata": {},
   "outputs": [],
   "source": [
    "# Question Data\n",
    "QUESTION = pd.read_csv(BASE + 'question_metadata' + EXT)\n",
    "QUESTION['SubjectId'] = [list(map(int,x[1:-1].split(', ')))\n",
    "                         for x in QUESTION['SubjectId']]\n",
    "assert len(QUESTION['QuestionId'].unique())==QUESTION.shape[0]\n",
    "assert all(QUESTION['SubjectId'].apply(type) == list)\n",
    "assert all(QUESTION['SubjectId'].apply(bool)) # SubjectId not empty\n",
    "QUESTION.head() # print(QUESTION.head())"
   ]
  },
  {
   "cell_type": "markdown",
   "metadata": {},
   "source": [
    "### Review Data"
   ]
  },
  {
   "cell_type": "code",
   "execution_count": null,
   "metadata": {},
   "outputs": [],
   "source": [
    "# Set DATA variable\n",
    "DATA = SUBJECT"
   ]
  },
  {
   "cell_type": "code",
   "execution_count": null,
   "metadata": {},
   "outputs": [],
   "source": [
    "# Basic information\n",
    "print('What is the type of the data: ' + str(type(DATA)))\n",
    "print('Structure of the data: ' + str(DATA.shape))"
   ]
  },
  {
   "cell_type": "code",
   "execution_count": null,
   "metadata": {},
   "outputs": [],
   "source": [
    "# General information\n",
    "DATA.info()"
   ]
  },
  {
   "cell_type": "code",
   "execution_count": null,
   "metadata": {},
   "outputs": [],
   "source": [
    "# First 5 entries\n",
    "DATA.head()"
   ]
  },
  {
   "cell_type": "code",
   "execution_count": null,
   "metadata": {},
   "outputs": [],
   "source": [
    "# Continue exploring the data here ..."
   ]
  },
  {
   "cell_type": "markdown",
   "metadata": {},
   "source": [
    "### Analysis: Understanding Trends"
   ]
  },
  {
   "cell_type": "code",
   "execution_count": null,
   "metadata": {},
   "outputs": [],
   "source": [
    "QUESTION_INFO = TRAIN.groupby('QuestionId')['IsCorrect'].agg(['mean', 'count', 'sum'])\n",
    "QUESTION_INFO = QUESTION_INFO.sort_values(by='mean')\n",
    "plt.plot(QUESTION_INFO['mean'].values)\n",
    "plt.title('Mean of correct answers per question')\n",
    "plt.xlabel('User Number')\n",
    "plt.ylabel('Average Correct Answers')\n",
    "plt.grid(color='gray', linestyle='-', linewidth=0.1)\n",
    "plt.show()"
   ]
  },
  {
   "attachments": {},
   "cell_type": "markdown",
   "metadata": {},
   "source": [
    "### Prepare the data"
   ]
  },
  {
   "cell_type": "code",
   "execution_count": null,
   "metadata": {},
   "outputs": [],
   "source": [
    "# Encode the subjects into each question\n",
    "subject_map = {x: y for x, y in zip(SUBJECT.SubjectId, SUBJECT.Name)}\n",
    "QUESTION = QUESTION.join(QUESTION.SubjectId.explode()\n",
    "  .apply(lambda x: subject_map[x]).str.get_dummies()\n",
    "  .groupby(level=0).sum().astype(bool))\n",
    "temp = QUESTION.iloc[0]['SubjectId'] + [1189, 130]\n",
    "QUESTION = QUESTION.drop(columns=['SubjectId']).set_index('QuestionId')\n",
    "for x in temp: # Last two should be False\n",
    "    print(QUESTION[subject_map[x]].iloc[0])"
   ]
  },
  {
   "cell_type": "code",
   "execution_count": null,
   "metadata": {},
   "outputs": [],
   "source": [
    "# Create STUDENT features (average of correct answers per subject)\n",
    "STUDENT = TRAIN.groupby('UserId')['IsCorrect'].agg(average='mean', num_questions='count')\n",
    "for _, x in subject_map.items(): # Takes about 3 minutes\n",
    "    select = set(QUESTION.loc[QUESTION[x] == True].index.values)\n",
    "    averages = TRAIN[TRAIN['QuestionId'].isin(select)].groupby('UserId')['IsCorrect'].mean()\n",
    "    STUDENT = pd.concat((STUDENT, averages), axis=1)\n",
    "    STUDENT.rename(columns={'IsCorrect': x}, inplace=True)"
   ]
  },
  {
   "cell_type": "code",
   "execution_count": null,
   "metadata": {},
   "outputs": [],
   "source": [
    "# High use values\n",
    "FEATURE_COUNT = len(subject_map)\n",
    "QUESTION_COUNT = QUESTION.shape[0]\n",
    "STUDENT_COUNT = STUDENT.shape[0]\n",
    "print(FEATURE_COUNT, QUESTION_COUNT, STUDENT_COUNT)"
   ]
  },
  {
   "cell_type": "code",
   "execution_count": null,
   "metadata": {},
   "outputs": [],
   "source": [
    "# Training Data: Input (X) and Output (Y)\n",
    "try: # takes 3 minutes\n",
    "    X_student = TRAIN.join(STUDENT, on='UserId', how='inner', sort=True)\n",
    "    X_question = TRAIN.join(QUESTION, on='QuestionId', how='inner', sort=True)\n",
    "    Y = TRAIN['IsCorrect']\n",
    "    print('Training data created')\n",
    "    X_student = X_student.iloc[:, 8:]\n",
    "    X_question = X_question.iloc[:, 6:]\n",
    "except:\n",
    "    print('Some error occurred')"
   ]
  },
  {
   "attachments": {},
   "cell_type": "markdown",
   "metadata": {},
   "source": [
    "### Machine Learning: Content-Based Filtering"
   ]
  },
  {
   "cell_type": "code",
   "execution_count": null,
   "metadata": {},
   "outputs": [],
   "source": [
    "# SCALE THE DATA"
   ]
  },
  {
   "cell_type": "code",
   "execution_count": null,
   "metadata": {},
   "outputs": [],
   "source": [
    "# Create the model\n",
    "num_outputs = 32\n",
    "user_NN = tf.keras.models.Sequential([\n",
    "    tf.keras.layers.Dense(units=256, activation='relu'),\n",
    "    tf.keras.layers.Dense(units=128, activation='relu'),\n",
    "    tf.keras.layers.Dense(units=num_outputs, activation='sigmoid'),\n",
    "])\n",
    "item_NN = tf.keras.models.Sequential([\n",
    "    tf.keras.layers.Dense(units=256, activation='relu'),\n",
    "    tf.keras.layers.Dense(units=128, activation='relu'),\n",
    "    tf.keras.layers.Dense(units=num_outputs, activation='sigmoid'),\n",
    "])\n",
    "# create the user input and point to the base network\n",
    "input_user = tf.keras.layers.Input(shape=(FEATURE_COUNT))\n",
    "vu = tf.linalg.l2_normalize(user_NN(input_user), axis=1)\n",
    "# create the item input and point to the base network\n",
    "input_item = tf.keras.layers.Input(shape=(FEATURE_COUNT))\n",
    "vm = tf.linalg.l2_normalize(item_NN(input_item), axis=1)\n",
    "# compute the dot product of the two vectors vu and vm\n",
    "output = tf.keras.layers.Dot(axes=1)([vu, vm])\n",
    "# specify the inputs and output of the model and compile\n",
    "model = keras.Model([input_user, input_item], output)\n",
    "model.compile(optimizer=keras.optimizers.Adam(learning_rate=0.01),\n",
    "              loss=keras.losses.BinaryCrossentropy())\n",
    "model.summary()"
   ]
  },
  {
   "cell_type": "code",
   "execution_count": null,
   "metadata": {},
   "outputs": [],
   "source": [
    "# Generate Training Data - Kernel Crashes\n",
    "X_student = TRAIN.join(STUDENT, on='UserId', how='inner', sort=True).iloc[:, 8:]\n",
    "X_question = TRAIN.join(QUESTION, on='QuestionId', how='inner', sort=True).iloc[:, 6:]\n",
    "Y = TRAIN['IsCorrect']"
   ]
  },
  {
   "cell_type": "code",
   "execution_count": null,
   "metadata": {},
   "outputs": [],
   "source": [
    "# Train the model (takes too much time)\n",
    "for chunk in np.array_split(TRAIN, 30):\n",
    "    X_student = chunk.join(STUDENT, on='UserId', how='inner', sort=True).iloc[:, 8:]\n",
    "    X_question = chunk.join(QUESTION, on='QuestionId', how='inner', sort=True).iloc[:, 6:]\n",
    "    Y = chunk['IsCorrect']\n",
    "    model.fit([X_student, X_question], Y, epochs=10)"
   ]
  }
 ],
 "metadata": {
  "kernelspec": {
   "display_name": "base",
   "language": "python",
   "name": "python3"
  },
  "language_info": {
   "codemirror_mode": {
    "name": "ipython",
    "version": 3
   },
   "file_extension": ".py",
   "mimetype": "text/x-python",
   "name": "python",
   "nbconvert_exporter": "python",
   "pygments_lexer": "ipython3",
   "version": "3.10.8"
  },
  "orig_nbformat": 4,
  "vscode": {
   "interpreter": {
    "hash": "1bb661b5f7809a14344d07c21fe33ba351569652c37de5ed4a9af6881070c59a"
   }
  }
 },
 "nbformat": 4,
 "nbformat_minor": 2
}
